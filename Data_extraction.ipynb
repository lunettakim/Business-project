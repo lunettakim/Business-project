{
 "cells": [
  {
   "cell_type": "code",
   "execution_count": 1,
   "id": "f1bdb8aa",
   "metadata": {},
   "outputs": [
    {
     "name": "stderr",
     "output_type": "stream",
     "text": [
      "[nltk_data] Downloading package punkt to C:\\Users\\Nina\n",
      "[nltk_data]     Kim\\AppData\\Roaming\\nltk_data...\n",
      "[nltk_data]   Package punkt is already up-to-date!\n"
     ]
    },
    {
     "data": {
      "text/plain": [
       "True"
      ]
     },
     "execution_count": 1,
     "metadata": {},
     "output_type": "execute_result"
    }
   ],
   "source": [
    "import nltk\n",
    "nltk.download('punkt')"
   ]
  },
  {
   "cell_type": "code",
   "execution_count": 2,
   "id": "79f86f16",
   "metadata": {},
   "outputs": [],
   "source": [
    "import twint\n",
    "import pandas as pd\n",
    "import nest_asyncio\n",
    "import matplotlib.pyplot as plt\n",
    "import numpy as np\n",
    "import datetime as dt\n",
    "import seaborn as sns"
   ]
  },
  {
   "cell_type": "code",
   "execution_count": 3,
   "id": "415f00e6",
   "metadata": {},
   "outputs": [],
   "source": [
    "#cleaning\n",
    "import re\n",
    "from nltk.tokenize import WordPunctTokenizer\n",
    "from nltk.corpus import stopwords\n"
   ]
  },
  {
   "cell_type": "code",
   "execution_count": 4,
   "id": "30523116",
   "metadata": {},
   "outputs": [],
   "source": [
    "nest_asyncio.apply()"
   ]
  },
  {
   "cell_type": "code",
   "execution_count": 5,
   "id": "3dcfa7b8",
   "metadata": {},
   "outputs": [],
   "source": [
    "company_search = {\"Zara\":\"Zara OR ZARA OR zara\", \"Gucci\":\"Gucci OR GUCCI\",\n",
    "                 \"Patagonia\":\"Patagonia OR patagonia OR PATAGONIA\"}"
   ]
  },
  {
   "cell_type": "code",
   "execution_count": 6,
   "id": "26489092",
   "metadata": {},
   "outputs": [],
   "source": [
    "def twintConfig(date_from, date_to, search_string):\n",
    "    c = twint.Config()\n",
    "    c.Search = search_string[1]\n",
    "    c.Since = date_from\n",
    "    c.Until = date_to\n",
    "    c.Lang = 'en'\n",
    "    c.Pandas = True\n",
    "    twint.run.Search(c)"
   ]
  },
  {
   "cell_type": "code",
   "execution_count": 7,
   "id": "05c326bd",
   "metadata": {},
   "outputs": [],
   "source": [
    "since = \"2022-09-01\"\n",
    "until = \"2022-10-01\""
   ]
  },
  {
   "cell_type": "code",
   "execution_count": 8,
   "id": "3909475f",
   "metadata": {},
   "outputs": [],
   "source": [
    "def Run_Twint(search_vals):\n",
    "    \n",
    "    #set empty dataframe for join\n",
    "    out_df= pd.DataFrame()\n",
    "    \n",
    "    for company in search_vals.items():\n",
    "        print (\"running for search item: \"+company[0]+\"\\n\")\n",
    "\n",
    "        #run twint\n",
    "        twintConfig(since, until, company)\n",
    "        \n",
    "        #get dataframe from twint output\n",
    "        tweets_df = twint.storage.panda.Tweets_df\n",
    "        \n",
    "        #join Dataframes and create 'Bank' column\n",
    "        tweets_df[\"Company\"]= company[0]\n",
    "        out_df = pd.concat([out_df,tweets_df])\n",
    "        \n",
    "    return out_df"
   ]
  },
  {
   "cell_type": "code",
   "execution_count": null,
   "id": "04f616fe",
   "metadata": {},
   "outputs": [],
   "source": [
    "tweets_df = Run_Twint(company_search)"
   ]
  },
  {
   "cell_type": "code",
   "execution_count": 11,
   "id": "1e202422",
   "metadata": {},
   "outputs": [
    {
     "data": {
      "text/plain": [
       "138203"
      ]
     },
     "execution_count": 11,
     "metadata": {},
     "output_type": "execute_result"
    }
   ],
   "source": [
    "len(tweets_df)"
   ]
  },
  {
   "cell_type": "code",
   "execution_count": 12,
   "id": "e72bd6cf",
   "metadata": {},
   "outputs": [
    {
     "data": {
      "text/html": [
       "<div>\n",
       "<style scoped>\n",
       "    .dataframe tbody tr th:only-of-type {\n",
       "        vertical-align: middle;\n",
       "    }\n",
       "\n",
       "    .dataframe tbody tr th {\n",
       "        vertical-align: top;\n",
       "    }\n",
       "\n",
       "    .dataframe thead th {\n",
       "        text-align: right;\n",
       "    }\n",
       "</style>\n",
       "<table border=\"1\" class=\"dataframe\">\n",
       "  <thead>\n",
       "    <tr style=\"text-align: right;\">\n",
       "      <th></th>\n",
       "      <th>id</th>\n",
       "      <th>conversation_id</th>\n",
       "      <th>created_at</th>\n",
       "      <th>date</th>\n",
       "      <th>timezone</th>\n",
       "      <th>place</th>\n",
       "      <th>tweet</th>\n",
       "      <th>language</th>\n",
       "      <th>hashtags</th>\n",
       "      <th>cashtags</th>\n",
       "      <th>...</th>\n",
       "      <th>source</th>\n",
       "      <th>user_rt_id</th>\n",
       "      <th>user_rt</th>\n",
       "      <th>retweet_id</th>\n",
       "      <th>reply_to</th>\n",
       "      <th>retweet_date</th>\n",
       "      <th>translate</th>\n",
       "      <th>trans_src</th>\n",
       "      <th>trans_dest</th>\n",
       "      <th>Company</th>\n",
       "    </tr>\n",
       "  </thead>\n",
       "  <tbody>\n",
       "    <tr>\n",
       "      <th>0</th>\n",
       "      <td>1575998008491094016</td>\n",
       "      <td>1575998008491094016</td>\n",
       "      <td>1.664582e+12</td>\n",
       "      <td>2022-10-01 00:56:20</td>\n",
       "      <td>+0000</td>\n",
       "      <td></td>\n",
       "      <td>Check out this listing I just added to my #Pos...</td>\n",
       "      <td>en</td>\n",
       "      <td>[poshmark, shopmycloset]</td>\n",
       "      <td>[]</td>\n",
       "      <td>...</td>\n",
       "      <td></td>\n",
       "      <td></td>\n",
       "      <td></td>\n",
       "      <td></td>\n",
       "      <td>[]</td>\n",
       "      <td></td>\n",
       "      <td></td>\n",
       "      <td></td>\n",
       "      <td></td>\n",
       "      <td>Zara</td>\n",
       "    </tr>\n",
       "    <tr>\n",
       "      <th>1</th>\n",
       "      <td>1575997511759634434</td>\n",
       "      <td>1575997511759634434</td>\n",
       "      <td>1.664582e+12</td>\n",
       "      <td>2022-10-01 00:54:22</td>\n",
       "      <td>+0000</td>\n",
       "      <td></td>\n",
       "      <td>zara larsson chewed and spat out poster girl l...</td>\n",
       "      <td>en</td>\n",
       "      <td>[]</td>\n",
       "      <td>[]</td>\n",
       "      <td>...</td>\n",
       "      <td></td>\n",
       "      <td></td>\n",
       "      <td></td>\n",
       "      <td></td>\n",
       "      <td>[]</td>\n",
       "      <td></td>\n",
       "      <td></td>\n",
       "      <td></td>\n",
       "      <td></td>\n",
       "      <td>Zara</td>\n",
       "    </tr>\n",
       "  </tbody>\n",
       "</table>\n",
       "<p>2 rows × 39 columns</p>\n",
       "</div>"
      ],
      "text/plain": [
       "                    id      conversation_id    created_at  \\\n",
       "0  1575998008491094016  1575998008491094016  1.664582e+12   \n",
       "1  1575997511759634434  1575997511759634434  1.664582e+12   \n",
       "\n",
       "                  date timezone place  \\\n",
       "0  2022-10-01 00:56:20    +0000         \n",
       "1  2022-10-01 00:54:22    +0000         \n",
       "\n",
       "                                               tweet language  \\\n",
       "0  Check out this listing I just added to my #Pos...       en   \n",
       "1  zara larsson chewed and spat out poster girl l...       en   \n",
       "\n",
       "                   hashtags cashtags  ...  source user_rt_id user_rt  \\\n",
       "0  [poshmark, shopmycloset]       []  ...                              \n",
       "1                        []       []  ...                              \n",
       "\n",
       "  retweet_id  reply_to retweet_date translate trans_src trans_dest  Company  \n",
       "0                   []                                                 Zara  \n",
       "1                   []                                                 Zara  \n",
       "\n",
       "[2 rows x 39 columns]"
      ]
     },
     "execution_count": 12,
     "metadata": {},
     "output_type": "execute_result"
    }
   ],
   "source": [
    "tweets_df.head(2)"
   ]
  },
  {
   "cell_type": "code",
   "execution_count": 13,
   "id": "1ad50f72",
   "metadata": {},
   "outputs": [],
   "source": [
    "tweets_df = tweets_df[ ~tweets_df[\"username\"].str.lower().str.contains('zara|gucci|patagonia',regex = True)]"
   ]
  },
  {
   "cell_type": "code",
   "execution_count": 14,
   "id": "20a59167",
   "metadata": {},
   "outputs": [],
   "source": [
    "tweets_df = tweets_df.drop_duplicates(subset=['date',\"tweet\",\"Company\"],keep=\"first\")"
   ]
  },
  {
   "cell_type": "code",
   "execution_count": 15,
   "id": "68ef1270",
   "metadata": {},
   "outputs": [],
   "source": [
    "tweets_df.reset_index(inplace=True)\n",
    "tweets_df.drop(\"index\",axis =1,inplace=True)"
   ]
  },
  {
   "cell_type": "code",
   "execution_count": 16,
   "id": "490d010b",
   "metadata": {},
   "outputs": [],
   "source": [
    "tweets_df[\"language\"].unique()\n",
    "tweets_df = tweets_df[tweets_df[\"language\"].isin([ 'und', 'en'])]"
   ]
  },
  {
   "cell_type": "code",
   "execution_count": 17,
   "id": "a5f1d2f4",
   "metadata": {},
   "outputs": [
    {
     "data": {
      "text/plain": [
       "136438"
      ]
     },
     "execution_count": 17,
     "metadata": {},
     "output_type": "execute_result"
    }
   ],
   "source": [
    "len(tweets_df)"
   ]
  },
  {
   "cell_type": "code",
   "execution_count": 18,
   "id": "6cb0a5c7",
   "metadata": {},
   "outputs": [],
   "source": [
    "def clean_text(text):  \n",
    "    pat1 = r'@[^ ]+'                   #@signs\n",
    "    pat2 = r'https?://[A-Za-z0-9./]+'  #links\n",
    "    pat3 = r'\\'s'                      #floating s's\n",
    "    pat4 = r'\\#\\w+'                     # hashtags\n",
    "    pat5 = r'&amp '\n",
    "    pat6 = r'[^A-Za-z\\s]'         #remove non-alphabet\n",
    "    combined_pat = r'|'.join((pat1, pat2,pat3,pat4,pat5, pat6))\n",
    "    text = re.sub(combined_pat,\"\",text).lower()\n",
    "    return text.strip()"
   ]
  },
  {
   "cell_type": "code",
   "execution_count": 19,
   "id": "17114739",
   "metadata": {},
   "outputs": [
    {
     "name": "stdout",
     "output_type": "stream",
     "text": [
      "Wall time: 1.61 s\n"
     ]
    }
   ],
   "source": [
    "%%time\n",
    "tweets_df[\"cleaned_tweet\"] = tweets_df[\"tweet\"].apply(clean_text)"
   ]
  },
  {
   "cell_type": "code",
   "execution_count": 20,
   "id": "d373fd12",
   "metadata": {},
   "outputs": [],
   "source": [
    "#drop empty rows\n",
    "tweets_df = tweets_df [ ~(tweets_df[\"tweet\"] ==\"\")]"
   ]
  },
  {
   "cell_type": "code",
   "execution_count": 21,
   "id": "21cfdb0a",
   "metadata": {},
   "outputs": [
    {
     "data": {
      "text/plain": [
       "0    check out this listing i just added to my  clo...\n",
       "1    zara larsson chewed and spat out poster girl l...\n",
       "2    check out this listing i just added to my  clo...\n",
       "3                                    good morning zara\n",
       "4    check out this listing i just added to my  clo...\n",
       "Name: cleaned_tweet, dtype: object"
      ]
     },
     "execution_count": 21,
     "metadata": {},
     "output_type": "execute_result"
    }
   ],
   "source": [
    "tweets_df[\"cleaned_tweet\"].head()"
   ]
  },
  {
   "cell_type": "code",
   "execution_count": 22,
   "id": "6a57b5ed",
   "metadata": {},
   "outputs": [
    {
     "data": {
      "text/html": [
       "<div>\n",
       "<style scoped>\n",
       "    .dataframe tbody tr th:only-of-type {\n",
       "        vertical-align: middle;\n",
       "    }\n",
       "\n",
       "    .dataframe tbody tr th {\n",
       "        vertical-align: top;\n",
       "    }\n",
       "\n",
       "    .dataframe thead th {\n",
       "        text-align: right;\n",
       "    }\n",
       "</style>\n",
       "<table border=\"1\" class=\"dataframe\">\n",
       "  <thead>\n",
       "    <tr style=\"text-align: right;\">\n",
       "      <th></th>\n",
       "      <th>id</th>\n",
       "      <th>conversation_id</th>\n",
       "      <th>created_at</th>\n",
       "      <th>date</th>\n",
       "      <th>timezone</th>\n",
       "      <th>place</th>\n",
       "      <th>tweet</th>\n",
       "      <th>language</th>\n",
       "      <th>hashtags</th>\n",
       "      <th>cashtags</th>\n",
       "      <th>...</th>\n",
       "      <th>user_rt_id</th>\n",
       "      <th>user_rt</th>\n",
       "      <th>retweet_id</th>\n",
       "      <th>reply_to</th>\n",
       "      <th>retweet_date</th>\n",
       "      <th>translate</th>\n",
       "      <th>trans_src</th>\n",
       "      <th>trans_dest</th>\n",
       "      <th>Company</th>\n",
       "      <th>cleaned_tweet</th>\n",
       "    </tr>\n",
       "  </thead>\n",
       "  <tbody>\n",
       "    <tr>\n",
       "      <th>0</th>\n",
       "      <td>1575998008491094016</td>\n",
       "      <td>1575998008491094016</td>\n",
       "      <td>1.664582e+12</td>\n",
       "      <td>2022-10-01 00:56:20</td>\n",
       "      <td>+0000</td>\n",
       "      <td></td>\n",
       "      <td>Check out this listing I just added to my #Pos...</td>\n",
       "      <td>en</td>\n",
       "      <td>[poshmark, shopmycloset]</td>\n",
       "      <td>[]</td>\n",
       "      <td>...</td>\n",
       "      <td></td>\n",
       "      <td></td>\n",
       "      <td></td>\n",
       "      <td>[]</td>\n",
       "      <td></td>\n",
       "      <td></td>\n",
       "      <td></td>\n",
       "      <td></td>\n",
       "      <td>Zara</td>\n",
       "      <td>check out this listing i just added to my  clo...</td>\n",
       "    </tr>\n",
       "    <tr>\n",
       "      <th>1</th>\n",
       "      <td>1575997511759634434</td>\n",
       "      <td>1575997511759634434</td>\n",
       "      <td>1.664582e+12</td>\n",
       "      <td>2022-10-01 00:54:22</td>\n",
       "      <td>+0000</td>\n",
       "      <td></td>\n",
       "      <td>zara larsson chewed and spat out poster girl l...</td>\n",
       "      <td>en</td>\n",
       "      <td>[]</td>\n",
       "      <td>[]</td>\n",
       "      <td>...</td>\n",
       "      <td></td>\n",
       "      <td></td>\n",
       "      <td></td>\n",
       "      <td>[]</td>\n",
       "      <td></td>\n",
       "      <td></td>\n",
       "      <td></td>\n",
       "      <td></td>\n",
       "      <td>Zara</td>\n",
       "      <td>zara larsson chewed and spat out poster girl l...</td>\n",
       "    </tr>\n",
       "    <tr>\n",
       "      <th>2</th>\n",
       "      <td>1575997238412980224</td>\n",
       "      <td>1575997238412980224</td>\n",
       "      <td>1.664582e+12</td>\n",
       "      <td>2022-10-01 00:53:16</td>\n",
       "      <td>+0000</td>\n",
       "      <td></td>\n",
       "      <td>Check out this listing I just added to my #Pos...</td>\n",
       "      <td>en</td>\n",
       "      <td>[poshmark, shopmycloset]</td>\n",
       "      <td>[]</td>\n",
       "      <td>...</td>\n",
       "      <td></td>\n",
       "      <td></td>\n",
       "      <td></td>\n",
       "      <td>[]</td>\n",
       "      <td></td>\n",
       "      <td></td>\n",
       "      <td></td>\n",
       "      <td></td>\n",
       "      <td>Zara</td>\n",
       "      <td>check out this listing i just added to my  clo...</td>\n",
       "    </tr>\n",
       "    <tr>\n",
       "      <th>3</th>\n",
       "      <td>1575996936380764160</td>\n",
       "      <td>1575988601267290113</td>\n",
       "      <td>1.664582e+12</td>\n",
       "      <td>2022-10-01 00:52:04</td>\n",
       "      <td>+0000</td>\n",
       "      <td></td>\n",
       "      <td>@KhadeejahMalana good morning zara</td>\n",
       "      <td>en</td>\n",
       "      <td>[]</td>\n",
       "      <td>[]</td>\n",
       "      <td>...</td>\n",
       "      <td></td>\n",
       "      <td></td>\n",
       "      <td></td>\n",
       "      <td>[]</td>\n",
       "      <td></td>\n",
       "      <td></td>\n",
       "      <td></td>\n",
       "      <td></td>\n",
       "      <td>Zara</td>\n",
       "      <td>good morning zara</td>\n",
       "    </tr>\n",
       "    <tr>\n",
       "      <th>4</th>\n",
       "      <td>1575996600228671489</td>\n",
       "      <td>1575996600228671489</td>\n",
       "      <td>1.664582e+12</td>\n",
       "      <td>2022-10-01 00:50:44</td>\n",
       "      <td>+0000</td>\n",
       "      <td></td>\n",
       "      <td>Check out this listing I just added to my #Pos...</td>\n",
       "      <td>en</td>\n",
       "      <td>[poshmark, shopmycloset]</td>\n",
       "      <td>[]</td>\n",
       "      <td>...</td>\n",
       "      <td></td>\n",
       "      <td></td>\n",
       "      <td></td>\n",
       "      <td>[]</td>\n",
       "      <td></td>\n",
       "      <td></td>\n",
       "      <td></td>\n",
       "      <td></td>\n",
       "      <td>Zara</td>\n",
       "      <td>check out this listing i just added to my  clo...</td>\n",
       "    </tr>\n",
       "  </tbody>\n",
       "</table>\n",
       "<p>5 rows × 40 columns</p>\n",
       "</div>"
      ],
      "text/plain": [
       "                    id      conversation_id    created_at  \\\n",
       "0  1575998008491094016  1575998008491094016  1.664582e+12   \n",
       "1  1575997511759634434  1575997511759634434  1.664582e+12   \n",
       "2  1575997238412980224  1575997238412980224  1.664582e+12   \n",
       "3  1575996936380764160  1575988601267290113  1.664582e+12   \n",
       "4  1575996600228671489  1575996600228671489  1.664582e+12   \n",
       "\n",
       "                  date timezone place  \\\n",
       "0  2022-10-01 00:56:20    +0000         \n",
       "1  2022-10-01 00:54:22    +0000         \n",
       "2  2022-10-01 00:53:16    +0000         \n",
       "3  2022-10-01 00:52:04    +0000         \n",
       "4  2022-10-01 00:50:44    +0000         \n",
       "\n",
       "                                               tweet language  \\\n",
       "0  Check out this listing I just added to my #Pos...       en   \n",
       "1  zara larsson chewed and spat out poster girl l...       en   \n",
       "2  Check out this listing I just added to my #Pos...       en   \n",
       "3                 @KhadeejahMalana good morning zara       en   \n",
       "4  Check out this listing I just added to my #Pos...       en   \n",
       "\n",
       "                   hashtags cashtags  ...  user_rt_id user_rt retweet_id  \\\n",
       "0  [poshmark, shopmycloset]       []  ...                                  \n",
       "1                        []       []  ...                                  \n",
       "2  [poshmark, shopmycloset]       []  ...                                  \n",
       "3                        []       []  ...                                  \n",
       "4  [poshmark, shopmycloset]       []  ...                                  \n",
       "\n",
       "  reply_to  retweet_date translate trans_src trans_dest Company  \\\n",
       "0       []                                                 Zara   \n",
       "1       []                                                 Zara   \n",
       "2       []                                                 Zara   \n",
       "3       []                                                 Zara   \n",
       "4       []                                                 Zara   \n",
       "\n",
       "                                       cleaned_tweet  \n",
       "0  check out this listing i just added to my  clo...  \n",
       "1  zara larsson chewed and spat out poster girl l...  \n",
       "2  check out this listing i just added to my  clo...  \n",
       "3                                  good morning zara  \n",
       "4  check out this listing i just added to my  clo...  \n",
       "\n",
       "[5 rows x 40 columns]"
      ]
     },
     "execution_count": 22,
     "metadata": {},
     "output_type": "execute_result"
    }
   ],
   "source": [
    "tweets_df.head()"
   ]
  },
  {
   "cell_type": "code",
   "execution_count": 23,
   "id": "4f430d34",
   "metadata": {},
   "outputs": [],
   "source": [
    "tweets_df.to_csv('tweets_data.csv')"
   ]
  },
  {
   "cell_type": "code",
   "execution_count": null,
   "id": "e90144be",
   "metadata": {},
   "outputs": [],
   "source": []
  }
 ],
 "metadata": {
  "kernelspec": {
   "display_name": "Python 3",
   "language": "python",
   "name": "python3"
  },
  "language_info": {
   "codemirror_mode": {
    "name": "ipython",
    "version": 3
   },
   "file_extension": ".py",
   "mimetype": "text/x-python",
   "name": "python",
   "nbconvert_exporter": "python",
   "pygments_lexer": "ipython3",
   "version": "3.8.8"
  }
 },
 "nbformat": 4,
 "nbformat_minor": 5
}
